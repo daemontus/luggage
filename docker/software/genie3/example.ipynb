{
 "cells": [
  {
   "cell_type": "code",
   "execution_count": 1,
   "id": "9fdb2337-716d-4d04-949b-48282eace890",
   "metadata": {},
   "outputs": [],
   "source": [
    "import genie3 as g"
   ]
  },
  {
   "cell_type": "code",
   "execution_count": 2,
   "id": "f155f412-692c-427e-ac52-8a34c9d0cb1d",
   "metadata": {},
   "outputs": [],
   "source": [
    "data = g.loadtxt('data.txt',skiprows=1)\n",
    "f = open('data.txt')\n",
    "gene_names = f.readline()\n",
    "f.close()\n",
    "gene_names = gene_names.rstrip('\\n').split('\\t')"
   ]
  },
  {
   "cell_type": "markdown",
   "id": "26af143c-6175-4171-91ba-80e5cb3dd8b6",
   "metadata": {},
   "source": [
    "### Run GENIE3 with its default parameters\n",
    "\n",
    "The only mandatory input argument to the function GENIE3() is the expression matrix.\n",
    "\n",
    "GENIE3() returns an array VIM containing the scores of the putative regula- tory links. VIM(i,j) is the weight of the link directed from the i-th gene to j-th gene."
   ]
  },
  {
   "cell_type": "code",
   "execution_count": 3,
   "id": "aefea845-cf97-490c-b2e9-1d917162ce29",
   "metadata": {},
   "outputs": [
    {
     "name": "stdout",
     "output_type": "stream",
     "text": [
      "Tree method: RF\n",
      "K: sqrt\n",
      "Number of trees: 1000\n",
      "\n",
      "\n",
      "running single threaded jobs\n",
      "Gene 1/10...\n",
      "Gene 2/10...\n",
      "Gene 3/10...\n",
      "Gene 4/10...\n",
      "Gene 5/10...\n",
      "Gene 6/10...\n",
      "Gene 7/10...\n",
      "Gene 8/10...\n",
      "Gene 9/10...\n",
      "Gene 10/10...\n",
      "Elapsed time: 4.36 seconds\n"
     ]
    }
   ],
   "source": [
    "VIM = g.GENIE3(data)"
   ]
  },
  {
   "cell_type": "markdown",
   "id": "c2486d21-dae9-4f4b-8dcf-3e51a932a07c",
   "metadata": {},
   "source": [
    "Restrict the candidate regulators to a subset of genes"
   ]
  },
  {
   "cell_type": "code",
   "execution_count": 4,
   "id": "fab5e425-0a56-4946-a1c5-1dad141313da",
   "metadata": {},
   "outputs": [
    {
     "name": "stdout",
     "output_type": "stream",
     "text": [
      "Tree method: RF\n",
      "K: sqrt\n",
      "Number of trees: 1000\n",
      "\n",
      "\n",
      "running single threaded jobs\n",
      "Gene 1/10...\n",
      "Gene 2/10...\n",
      "Gene 3/10...\n",
      "Gene 4/10...\n",
      "Gene 5/10...\n",
      "Gene 6/10...\n",
      "Gene 7/10...\n",
      "Gene 8/10...\n",
      "Gene 9/10...\n",
      "Gene 10/10...\n",
      "Elapsed time: 4.00 seconds\n"
     ]
    }
   ],
   "source": [
    "# Genes that are used as candidate regulators\n",
    "regulators = ['CD19', 'CDH17','RAD51','OSR2','TBX3']\n",
    "VIM2 = g.GENIE3(data,gene_names=gene_names,regulators=regulators)"
   ]
  },
  {
   "cell_type": "markdown",
   "id": "0046811c-e05e-41a2-a5a8-26474a86f832",
   "metadata": {},
   "source": [
    "Change the tree-based method and its settings"
   ]
  },
  {
   "cell_type": "code",
   "execution_count": 6,
   "id": "51343cfb-209d-4e20-9046-457e16f65eaa",
   "metadata": {},
   "outputs": [
    {
     "name": "stdout",
     "output_type": "stream",
     "text": [
      "Tree method: ET\n",
      "K: 7\n",
      "Number of trees: 50\n",
      "\n",
      "\n",
      "running single threaded jobs\n",
      "Gene 1/10...\n",
      "Gene 2/10...\n",
      "Gene 3/10...\n",
      "Gene 4/10...\n",
      "Gene 5/10...\n",
      "Gene 6/10...\n",
      "Gene 7/10...\n",
      "Gene 8/10...\n",
      "Gene 9/10...\n",
      "Gene 10/10...\n",
      "Elapsed time: 0.17 seconds\n"
     ]
    }
   ],
   "source": [
    "# Use Extra-Trees method\n",
    "tree_method='ET'\n",
    "# Number of randomly chosen candidate regulators at each node of a tree \n",
    "K=7\n",
    "# Number of trees per ensemble\n",
    "ntrees = 50\n",
    "# Run the method with these settings\n",
    "VIM3 = g.GENIE3(data,tree_method=tree_method,K=K,ntrees=ntrees)"
   ]
  },
  {
   "cell_type": "markdown",
   "id": "fd40e74e-13d9-4882-8b33-e39604ff0b69",
   "metadata": {},
   "source": [
    "### Get the predicted ranking of all the regulatory links\n",
    "\n",
    "Each line corresponds to a regulatory link. The first column shows the regulator, the second column shows the target gene, and the last column indicates the score of the link.\n",
    "\n",
    "If the gene names are not provided, the i-th gene is named \"Gi\".\n",
    "\n",
    "Note that the ranking that is obtained will be slightly different from one run to another. This is due to the intrinsic randomness of the Random Forest and Extra-Trees methods. The variance of the ranking can be decreased by increas- ing the number of trees per ensemble.\n",
    "\n",
    "**Important note on the interpretation of the scores:** The weights of the links returned by GENIE3() do not have any statistical meaning and only provide a way to rank the regulatory links. There is therefore no standard threshold value, and caution must be taken when choosing one.\n"
   ]
  },
  {
   "cell_type": "code",
   "execution_count": 8,
   "id": "91dd9feb-10d9-4c40-a103-8c1c0b6ddfc0",
   "metadata": {},
   "outputs": [
    {
     "name": "stdout",
     "output_type": "stream",
     "text": [
      "G1\tG5\t0.515879\n",
      "G5\tG1\t0.515484\n",
      "G6\tG8\t0.385897\n",
      "G8\tG6\t0.367422\n",
      "G9\tG10\t0.315189\n",
      "G2\tG8\t0.250074\n",
      "G9\tG7\t0.241565\n",
      "G7\tG4\t0.211394\n",
      "G10\tG9\t0.204164\n",
      "G2\tG6\t0.202257\n",
      "G7\tG9\t0.200738\n",
      "G5\tG9\t0.200737\n",
      "G3\tG4\t0.194461\n",
      "G4\tG3\t0.189364\n",
      "G6\tG2\t0.184534\n",
      "G8\tG2\t0.172268\n",
      "G7\tG2\t0.170404\n",
      "G3\tG7\t0.156099\n",
      "G7\tG3\t0.147557\n",
      "G4\tG10\t0.144872\n",
      "G2\tG1\t0.131506\n",
      "G9\tG3\t0.127681\n",
      "G4\tG7\t0.127329\n",
      "G5\tG4\t0.126016\n",
      "G1\tG2\t0.125425\n",
      "G5\tG10\t0.122471\n",
      "G2\tG5\t0.115212\n",
      "G1\tG4\t0.114741\n",
      "G2\tG7\t0.106373\n",
      "G1\tG3\t0.102602\n",
      "G3\tG10\t0.097068\n",
      "G9\tG4\t0.096996\n",
      "G5\tG2\t0.096756\n",
      "G10\tG4\t0.095135\n",
      "G2\tG3\t0.091942\n",
      "G8\tG3\t0.090899\n",
      "G5\tG6\t0.087709\n",
      "G5\tG3\t0.086710\n",
      "G1\tG7\t0.086297\n",
      "G7\tG8\t0.082485\n",
      "G5\tG7\t0.081463\n",
      "G6\tG3\t0.080062\n",
      "G3\tG2\t0.079995\n",
      "G3\tG9\t0.079807\n",
      "G7\tG10\t0.079758\n",
      "G1\tG8\t0.075637\n",
      "G8\tG1\t0.075557\n",
      "G7\tG6\t0.074039\n",
      "G4\tG5\t0.073532\n",
      "G2\tG9\t0.073463\n",
      "G10\tG3\t0.073209\n",
      "G8\tG5\t0.072352\n",
      "G1\tG10\t0.071471\n",
      "G8\tG7\t0.067435\n",
      "G8\tG9\t0.066435\n",
      "G6\tG7\t0.064495\n",
      "G10\tG7\t0.063690\n",
      "G4\tG9\t0.063440\n",
      "G1\tG6\t0.062937\n",
      "G9\tG2\t0.062928\n",
      "G5\tG8\t0.060601\n",
      "G6\tG4\t0.058870\n",
      "G7\tG5\t0.057262\n",
      "G8\tG4\t0.056758\n",
      "G8\tG10\t0.056537\n",
      "G3\tG6\t0.056262\n",
      "G4\tG6\t0.055799\n",
      "G1\tG9\t0.053416\n",
      "G10\tG2\t0.052051\n",
      "G2\tG10\t0.051787\n",
      "G4\tG1\t0.051643\n",
      "G2\tG4\t0.050118\n",
      "G9\tG8\t0.049883\n",
      "G6\tG10\t0.047710\n",
      "G7\tG1\t0.047149\n",
      "G10\tG6\t0.046966\n",
      "G6\tG9\t0.046864\n",
      "G3\tG1\t0.046725\n",
      "G6\tG5\t0.046227\n",
      "G10\tG1\t0.043857\n",
      "G9\tG1\t0.043670\n",
      "G9\tG5\t0.043535\n",
      "G9\tG6\t0.042698\n",
      "G4\tG2\t0.041563\n",
      "G10\tG8\t0.036962\n",
      "G3\tG5\t0.036203\n",
      "G6\tG1\t0.034695\n",
      "G10\tG5\t0.034390\n",
      "G4\tG8\t0.025304\n",
      "G3\tG8\t0.024798\n"
     ]
    }
   ],
   "source": [
    "g.get_link_list(VIM)"
   ]
  },
  {
   "cell_type": "markdown",
   "id": "f1f57aeb-12b1-4b77-9c9a-5db89c8cbd8b",
   "metadata": {},
   "source": [
    "Show the names of the genes"
   ]
  },
  {
   "cell_type": "code",
   "execution_count": 9,
   "id": "6ab9020d-60de-46b4-82d4-436381a1b38b",
   "metadata": {},
   "outputs": [
    {
     "name": "stdout",
     "output_type": "stream",
     "text": [
      "TBX3\tXRCC2\t0.515879\n",
      "XRCC2\tTBX3\t0.515484\n",
      "CD93\tCREB5\t0.385897\n",
      "CREB5\tCD93\t0.367422\n",
      "CD19\tRAD51\t0.315189\n",
      "GATA5\tCREB5\t0.250074\n",
      "CD19\tOSR2\t0.241565\n",
      "OSR2\tCDH17\t0.211394\n",
      "RAD51\tCD19\t0.204164\n",
      "GATA5\tCD93\t0.202257\n",
      "OSR2\tCD19\t0.200738\n",
      "XRCC2\tCD19\t0.200737\n",
      "ZNF394\tCDH17\t0.194461\n",
      "CDH17\tZNF394\t0.189364\n",
      "CD93\tGATA5\t0.184534\n",
      "CREB5\tGATA5\t0.172268\n",
      "OSR2\tGATA5\t0.170404\n",
      "ZNF394\tOSR2\t0.156099\n",
      "OSR2\tZNF394\t0.147557\n",
      "CDH17\tRAD51\t0.144872\n",
      "GATA5\tTBX3\t0.131506\n",
      "CD19\tZNF394\t0.127681\n",
      "CDH17\tOSR2\t0.127329\n",
      "XRCC2\tCDH17\t0.126016\n",
      "TBX3\tGATA5\t0.125425\n",
      "XRCC2\tRAD51\t0.122471\n",
      "GATA5\tXRCC2\t0.115212\n",
      "TBX3\tCDH17\t0.114741\n",
      "GATA5\tOSR2\t0.106373\n",
      "TBX3\tZNF394\t0.102602\n",
      "ZNF394\tRAD51\t0.097068\n",
      "CD19\tCDH17\t0.096996\n",
      "XRCC2\tGATA5\t0.096756\n",
      "RAD51\tCDH17\t0.095135\n",
      "GATA5\tZNF394\t0.091942\n",
      "CREB5\tZNF394\t0.090899\n",
      "XRCC2\tCD93\t0.087709\n",
      "XRCC2\tZNF394\t0.086710\n",
      "TBX3\tOSR2\t0.086297\n",
      "OSR2\tCREB5\t0.082485\n",
      "XRCC2\tOSR2\t0.081463\n",
      "CD93\tZNF394\t0.080062\n",
      "ZNF394\tGATA5\t0.079995\n",
      "ZNF394\tCD19\t0.079807\n",
      "OSR2\tRAD51\t0.079758\n",
      "TBX3\tCREB5\t0.075637\n",
      "CREB5\tTBX3\t0.075557\n",
      "OSR2\tCD93\t0.074039\n",
      "CDH17\tXRCC2\t0.073532\n",
      "GATA5\tCD19\t0.073463\n",
      "RAD51\tZNF394\t0.073209\n",
      "CREB5\tXRCC2\t0.072352\n",
      "TBX3\tRAD51\t0.071471\n",
      "CREB5\tOSR2\t0.067435\n",
      "CREB5\tCD19\t0.066435\n",
      "CD93\tOSR2\t0.064495\n",
      "RAD51\tOSR2\t0.063690\n",
      "CDH17\tCD19\t0.063440\n",
      "TBX3\tCD93\t0.062937\n",
      "CD19\tGATA5\t0.062928\n",
      "XRCC2\tCREB5\t0.060601\n",
      "CD93\tCDH17\t0.058870\n",
      "OSR2\tXRCC2\t0.057262\n",
      "CREB5\tCDH17\t0.056758\n",
      "CREB5\tRAD51\t0.056537\n",
      "ZNF394\tCD93\t0.056262\n",
      "CDH17\tCD93\t0.055799\n",
      "TBX3\tCD19\t0.053416\n",
      "RAD51\tGATA5\t0.052051\n",
      "GATA5\tRAD51\t0.051787\n",
      "CDH17\tTBX3\t0.051643\n",
      "GATA5\tCDH17\t0.050118\n",
      "CD19\tCREB5\t0.049883\n",
      "CD93\tRAD51\t0.047710\n",
      "OSR2\tTBX3\t0.047149\n",
      "RAD51\tCD93\t0.046966\n",
      "CD93\tCD19\t0.046864\n",
      "ZNF394\tTBX3\t0.046725\n",
      "CD93\tXRCC2\t0.046227\n",
      "RAD51\tTBX3\t0.043857\n",
      "CD19\tTBX3\t0.043670\n",
      "CD19\tXRCC2\t0.043535\n",
      "CD19\tCD93\t0.042698\n",
      "CDH17\tGATA5\t0.041563\n",
      "RAD51\tCREB5\t0.036962\n",
      "ZNF394\tXRCC2\t0.036203\n",
      "CD93\tTBX3\t0.034695\n",
      "RAD51\tXRCC2\t0.034390\n",
      "CDH17\tCREB5\t0.025304\n",
      "ZNF394\tCREB5\t0.024798\n"
     ]
    }
   ],
   "source": [
    "g.get_link_list(VIM,gene_names=gene_names)"
   ]
  },
  {
   "cell_type": "markdown",
   "id": "59f6843f-b286-4bc1-9df5-5f05529ca987",
   "metadata": {},
   "source": [
    "Show only the links that are directed from the candidate regulators:"
   ]
  },
  {
   "cell_type": "code",
   "execution_count": 10,
   "id": "95bb55e7-57f0-44b9-8129-cdcedc294b6a",
   "metadata": {},
   "outputs": [
    {
     "name": "stdout",
     "output_type": "stream",
     "text": [
      "TBX3\tXRCC2\t0.515879\n",
      "CD19\tRAD51\t0.315189\n",
      "CD19\tOSR2\t0.241565\n",
      "OSR2\tCDH17\t0.211394\n",
      "RAD51\tCD19\t0.204164\n",
      "OSR2\tCD19\t0.200738\n",
      "CDH17\tZNF394\t0.189364\n",
      "OSR2\tGATA5\t0.170404\n",
      "OSR2\tZNF394\t0.147557\n",
      "CDH17\tRAD51\t0.144872\n",
      "CD19\tZNF394\t0.127681\n",
      "CDH17\tOSR2\t0.127329\n",
      "TBX3\tGATA5\t0.125425\n",
      "TBX3\tCDH17\t0.114741\n",
      "TBX3\tZNF394\t0.102602\n",
      "CD19\tCDH17\t0.096996\n",
      "RAD51\tCDH17\t0.095135\n",
      "TBX3\tOSR2\t0.086297\n",
      "OSR2\tCREB5\t0.082485\n",
      "OSR2\tRAD51\t0.079758\n",
      "TBX3\tCREB5\t0.075637\n",
      "OSR2\tCD93\t0.074039\n",
      "CDH17\tXRCC2\t0.073532\n",
      "RAD51\tZNF394\t0.073209\n",
      "TBX3\tRAD51\t0.071471\n",
      "RAD51\tOSR2\t0.063690\n",
      "CDH17\tCD19\t0.063440\n",
      "TBX3\tCD93\t0.062937\n",
      "CD19\tGATA5\t0.062928\n",
      "OSR2\tXRCC2\t0.057262\n",
      "CDH17\tCD93\t0.055799\n",
      "TBX3\tCD19\t0.053416\n",
      "RAD51\tGATA5\t0.052051\n",
      "CDH17\tTBX3\t0.051643\n",
      "CD19\tCREB5\t0.049883\n",
      "OSR2\tTBX3\t0.047149\n",
      "RAD51\tCD93\t0.046966\n",
      "RAD51\tTBX3\t0.043857\n",
      "CD19\tTBX3\t0.043670\n",
      "CD19\tXRCC2\t0.043535\n",
      "CD19\tCD93\t0.042698\n",
      "CDH17\tGATA5\t0.041563\n",
      "RAD51\tCREB5\t0.036962\n",
      "RAD51\tXRCC2\t0.034390\n",
      "CDH17\tCREB5\t0.025304\n"
     ]
    }
   ],
   "source": [
    "g.get_link_list(VIM,gene_names=gene_names,regulators=regulators)"
   ]
  },
  {
   "cell_type": "markdown",
   "id": "6c7e0774-f7bc-46e4-aad4-a7045ab03fa3",
   "metadata": {},
   "source": [
    "Output the first 5 links:"
   ]
  },
  {
   "cell_type": "code",
   "execution_count": 11,
   "id": "b1e62b0f-b5f4-4f5b-b76f-efb719b6e836",
   "metadata": {},
   "outputs": [
    {
     "name": "stdout",
     "output_type": "stream",
     "text": [
      "TBX3\tXRCC2\t0.515879\n",
      "CD19\tRAD51\t0.315189\n",
      "CD19\tOSR2\t0.241565\n",
      "OSR2\tCDH17\t0.211394\n",
      "RAD51\tCD19\t0.204164\n"
     ]
    }
   ],
   "source": [
    "g.get_link_list(VIM,gene_names=gene_names,regulators=regulators,maxcount=5)"
   ]
  },
  {
   "cell_type": "code",
   "execution_count": null,
   "id": "ade8b086-48f2-4372-99b7-0233de2ce47e",
   "metadata": {},
   "outputs": [],
   "source": []
  }
 ],
 "metadata": {
  "kernelspec": {
   "display_name": "Python 3 (ipykernel)",
   "language": "python",
   "name": "python3"
  },
  "language_info": {
   "codemirror_mode": {
    "name": "ipython",
    "version": 3
   },
   "file_extension": ".py",
   "mimetype": "text/x-python",
   "name": "python",
   "nbconvert_exporter": "python",
   "pygments_lexer": "ipython3",
   "version": "3.12.1"
  }
 },
 "nbformat": 4,
 "nbformat_minor": 5
}
